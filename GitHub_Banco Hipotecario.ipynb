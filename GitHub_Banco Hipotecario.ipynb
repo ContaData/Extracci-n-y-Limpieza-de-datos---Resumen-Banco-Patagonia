{
 "cells": [
  {
   "cell_type": "code",
   "execution_count": null,
   "metadata": {},
   "outputs": [],
   "source": [
    "##### IMPORTACIÓN DE LIBRERÍAS #####\n",
    "# Importación de pandas para manipulación de datos y tabula para leer archivos PDF.\n",
    "import pandas as pd\n",
    "import tabula"
   ]
  },
  {
   "cell_type": "code",
   "execution_count": null,
   "metadata": {},
   "outputs": [],
   "source": [
    "# Definir la ruta al archivo PDF a procesar.\n",
    "ruta = 'Extracto_Banco_Hipotecario.pdf'\n",
    "\n",
    "##### LECTURA DEL ARCHIVO PDF Y EXTRACCIÓN DE DATOS #####\n",
    "# Leer todas las páginas del PDF especificado usando Tabula.\n",
    "# Se definen las áreas y columnas de interés para extraer las tablas de datos.\n",
    "dfs = tabula.read_pdf(\n",
    "    ruta, pages='all',\n",
    "    relative_area=True, \n",
    "    relative_columns=True,\n",
    "    area=[32, 0, 95, 100],\n",
    "    columns=[11, 38, 42, 60, 75 , 85],\n",
    "    pandas_options={'header': None},\n",
    "    silent=True\n",
    ")"
   ]
  },
  {
   "cell_type": "code",
   "execution_count": null,
   "metadata": {},
   "outputs": [],
   "source": [
    "##### RENOMBRAR Y UNIR LOS DATAFRAMES #####\n",
    "# Definir nombres para las columnas en el DataFrame.\n",
    "columnas = [\"Fecha\", \"Descripcion\", \"Suc\", \"Referencia\", \"Debitos\", \"Creditos\", \"Saldos\"]\n",
    "\n",
    "# Renombrar columnas de cada DataFrame en la lista para que tengan nombres consistentes.\n",
    "dfs_renombrados = [df.rename(columns=dict(zip(df.columns, columnas))) for df in dfs]\n",
    "\n",
    "# Concatenar todos los DataFrames en un único DataFrame `df_unido`.\n",
    "df_unido = pd.concat(dfs_renombrados, ignore_index=True)"
   ]
  },
  {
   "cell_type": "code",
   "execution_count": null,
   "metadata": {},
   "outputs": [],
   "source": [
    "##### FILTRADO Y SELECCIÓN DE FILAS #####\n",
    "# Encontrar el último índice donde aparece \"SALDO FINAL AL DIA\" en la columna 'Descripcion'.\n",
    "ultimo_indice = df_unido[df_unido['Descripcion'].str.contains('SALDO FINAL AL DIA', na=False)].index[-1]\n",
    "\n",
    "# Crear un nuevo DataFrame `df_LastN` que incluye solo las filas hasta el último \"SALDO FINAL AL DIA\".\n",
    "df_LastN = df_unido[0:ultimo_indice+1]"
   ]
  },
  {
   "cell_type": "code",
   "execution_count": null,
   "metadata": {},
   "outputs": [],
   "source": [
    "##### LIMPIEZA Y COMPLETADO DE VALORES NULOS #####\n",
    "# Eliminar las filas con valores NaN en la columna \"Fecha\" y crear una copia del DataFrame.\n",
    "df_sin_nan = df_LastN.dropna(subset=['Fecha']).copy()\n",
    "\n",
    "# Crear una columna de índice personalizado 'Indice' en el DataFrame `df_sin_nan`.\n",
    "df_sin_nan = df_sin_nan.assign(Indice=range(1, len(df_sin_nan) + 1))\n",
    "\n",
    "# Combinar `df_LastN` con `df_sin_nan` para incluir el índice en todas las filas originales, usando forward-fill para completar valores faltantes.\n",
    "df_merge = df_LastN.merge(df_sin_nan[['Indice']], left_index=True, right_index=True, how='left')\n",
    "df_merge['Indice'] = df_merge['Indice'].ffill()\n",
    "\n",
    "# Reemplazar valores NaN en las columnas de texto 'Descripcion' y 'Referencia' con cadenas vacías.\n",
    "df_merge['Descripcion'] = df_merge['Descripcion'].fillna('')\n",
    "df_merge['Referencia'] = df_merge['Referencia'].fillna('')"
   ]
  },
  {
   "cell_type": "code",
   "execution_count": null,
   "metadata": {},
   "outputs": [],
   "source": [
    "##### AGRUPACIÓN Y SUMA DE VALORES #####\n",
    "# Agrupar datos por 'Indice' y combinar las descripciones, referencias, y sumar los valores numéricos.\n",
    "df_agrupado = df_merge.groupby('Indice').agg({\n",
    "    'Fecha': 'first',  # Tomar la primera fecha en cada grupo\n",
    "    'Descripcion': lambda x: ' '.join(x),  # Concatenar descripciones\n",
    "    'Referencia': lambda x: ' '.join(x),   # Concatenar referencias\n",
    "    'Debitos': 'sum',  # Sumar valores en 'Debitos'\n",
    "    'Creditos': 'sum',  # Sumar valores en 'Creditos'\n",
    "    'Saldos': 'sum'     # Sumar valores en 'Saldos'\n",
    "}).reset_index()"
   ]
  },
  {
   "cell_type": "code",
   "execution_count": null,
   "metadata": {},
   "outputs": [],
   "source": [
    "##### FILTRADO DE DATOS #####\n",
    "# Eliminar filas donde 'Descripcion' contiene \"SALDO FINAL\" o \"DESCRIPCION\" (ignorar mayúsculas).\n",
    "df_filter = df_agrupado[~df_agrupado['Descripcion'].str.contains(r'SALDO FINAL|DESCRIPCION', case=False)].copy()"
   ]
  },
  {
   "cell_type": "code",
   "execution_count": null,
   "metadata": {},
   "outputs": [],
   "source": [
    "##### CONVERSIÓN DE DATOS Y RELLENO DE VALORES NULOS #####\n",
    "# Eliminar comas y convertir las columnas 'Debitos', 'Creditos' y 'Saldos' a tipo float.\n",
    "df_filter['Debitos'] = df_filter['Debitos'].str.replace(',', '').astype(float)\n",
    "df_filter['Creditos'] = df_filter['Creditos'].str.replace(',', '').astype(float)\n",
    "df_filter['Saldos'] = df_filter['Saldos'].str.replace(',', '').astype(float)\n",
    "\n",
    "# Rellenar valores NaN en las columnas 'Creditos', 'Debitos' y 'Saldos' con 0 y ajustar tipos.\n",
    "df_filter['Creditos'] = df_filter['Creditos'].fillna(0).infer_objects(copy=False)\n",
    "df_filter['Debitos'] = df_filter['Debitos'].fillna(0).infer_objects(copy=False)\n",
    "df_filter['Saldos'] = df_filter['Saldos'].fillna(0).infer_objects(copy=False)"
   ]
  },
  {
   "cell_type": "code",
   "execution_count": null,
   "metadata": {},
   "outputs": [],
   "source": [
    "##### CÁLCULO DE SALDO ACUMULADO #####\n",
    "# Crear una columna 'Dif' que calcule la diferencia entre 'Creditos' y 'Debitos' más el saldo actual.\n",
    "df_filter['Dif'] = df_filter['Creditos'] - df_filter['Debitos'] + df_filter['Saldos']\n",
    "\n",
    "# Crear una columna 'Saldo Acum' para la suma acumulada de 'Dif'.\n",
    "df_filter['Saldo Acum'] = df_filter['Dif'].cumsum().round(2)\n",
    "\n",
    "# Eliminar las columnas innecesarias para el archivo final.\n",
    "df_final = df_filter.drop(['Indice', 'Dif', 'Saldos'], axis=1)"
   ]
  },
  {
   "cell_type": "code",
   "execution_count": null,
   "metadata": {},
   "outputs": [],
   "source": [
    "##### EXTRACCIÓN DE INFORMACIÓN ADICIONAL DEL PDF #####\n",
    "# Extraer el periodo y CBU desde la primera página del PDF.\n",
    "cbu_periodo = tabula.read_pdf(\n",
    "    ruta, pages=1,\n",
    "    relative_area=True, \n",
    "    relative_columns=True,\n",
    "    area=[15, 0, 25, 100],\n",
    "    columns=[58],\n",
    "    pandas_options={'header': None},\n",
    "    silent=True\n",
    ")[0]\n",
    "\n",
    "# Obtener las fechas de inicio y fin del periodo a partir del texto extraído.\n",
    "periodo = cbu_periodo[1][0].split(':')[1].split('al')\n",
    "desde = periodo[0].strip()\n",
    "hasta = periodo[1].strip()\n",
    "\n",
    "# Reformatear las fechas al formato YYYY-MM-DD.\n",
    "fecha_desde = \"-\".join(reversed(desde.split(\"/\")))\n",
    "fecha_hasta = \"-\".join(reversed(hasta.split(\"/\")))\n",
    "\n",
    "# Extraer el CBU del texto.\n",
    "cbu = cbu_periodo[0][1][-18:]"
   ]
  },
  {
   "cell_type": "code",
   "execution_count": null,
   "metadata": {},
   "outputs": [],
   "source": [
    "##### EXPORTACIÓN DEL DATAFRAME FINAL A CSV #####\n",
    "# Crear el nombre del archivo CSV basado en el número de cuenta (CBU) y el periodo.\n",
    "nombre_excel = f\"Nro_Cta_{cbu}_Periodo_{fecha_desde}_al_{fecha_hasta}.csv\"\n",
    "\n",
    "# Exportar el DataFrame final a un archivo CSV.\n",
    "df_final.to_csv(nombre_excel, sep=';', encoding='latin-1', index=False)"
   ]
  }
 ],
 "metadata": {
  "kernelspec": {
   "display_name": "ETL_pdfs",
   "language": "python",
   "name": "python3"
  },
  "language_info": {
   "codemirror_mode": {
    "name": "ipython",
    "version": 3
   },
   "file_extension": ".py",
   "mimetype": "text/x-python",
   "name": "python",
   "nbconvert_exporter": "python",
   "pygments_lexer": "ipython3",
   "version": "3.11.9"
  }
 },
 "nbformat": 4,
 "nbformat_minor": 2
}
